{
 "cells": [
  {
   "cell_type": "markdown",
   "id": "1232f161-03f2-46e9-bd97-a6f396ea93f2",
   "metadata": {},
   "source": [
    "# Probability that 2 Numbers are Coprime Simulation\n",
    "\n",
    "This is inspired by a <a href=\"https://youtu.be/RZBhSi_PwHU\">Standupmaths video</a> that I saw on the interesting observation that you can find Pi using two large dice. "
   ]
  },
  {
   "cell_type": "code",
   "execution_count": null,
   "id": "aa9bf07b-1d99-4c7a-9cc4-da70cb481a33",
   "metadata": {},
   "outputs": [],
   "source": [
    "import random\n",
    "import math\n",
    "import matplotlib\n",
    "\n",
    "max_number = int(1000)\n",
    "trials = int(1e5)\n",
    "\n",
    "def gcd(x, y):\n",
    "    if y == 0:\n",
    "        return x\n",
    "    return gcd(y, x % y)\n",
    "\n",
    "def is_coprime(x, y):\n",
    "    if gcd(x, y) == 1:\n",
    "        return True\n",
    "\n",
    "    return False\n",
    "\n",
    "def simulate(trials, max_number):\n",
    "    count = 0\n",
    "    for _ in range(trials):\n",
    "        x = random.randint(1, max_number)\n",
    "        y = random.randint(1, max_number)\n",
    "        if is_coprime(x, y):\n",
    "            count += 1\n",
    "    return count\n",
    "\n",
    "print('Simulation Result:', simulate(trials, max_number) / trials)\n",
    "print('Actual Value:', 6 / math.pi ** 2)"
   ]
  }
 ],
 "metadata": {
  "kernelspec": {
   "display_name": "Python 3",
   "language": "python",
   "name": "python3"
  },
  "language_info": {
   "codemirror_mode": {
    "name": "ipython",
    "version": 3
   },
   "file_extension": ".py",
   "mimetype": "text/x-python",
   "name": "python",
   "nbconvert_exporter": "python",
   "pygments_lexer": "ipython3",
   "version": "3.9.5"
  }
 },
 "nbformat": 4,
 "nbformat_minor": 5
}
